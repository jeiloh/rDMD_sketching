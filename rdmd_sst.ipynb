{
 "cells": [
  {
   "cell_type": "code",
   "execution_count": null,
   "metadata": {},
   "outputs": [],
   "source": [
    "from ftplib import FTP\n",
    "import numpy as np\n",
    "from sklearn import datasets\n",
    "import netCDF4\n",
    "import time\n",
    "import matplotlib.pyplot as plt\n",
    "from pydmd import DMD, CDMD, RDMD"
   ]
  },
  {
   "cell_type": "code",
   "execution_count": null,
   "metadata": {},
   "outputs": [],
   "source": [
    "import warnings\n",
    "warnings.filterwarnings(\"ignore\")"
   ]
  },
  {
   "cell_type": "markdown",
   "metadata": {},
   "source": [
    "## Download SST data"
   ]
  },
  {
   "cell_type": "code",
   "execution_count": null,
   "metadata": {},
   "outputs": [],
   "source": [
    "# # Import and save data locally\n",
    "# ftp = FTP('ftp.cdc.noaa.gov')\n",
    "# ftp.login()\n",
    "# ftp.cwd('/Datasets/noaa.oisst.v2/')\n",
    "\n",
    "# filenames = ['sst.wkmean.1990-present.nc', 'lsmask.nc']\n",
    "\n",
    "# for filename in filenames:\n",
    "#     localfile = open(filename, 'wb')\n",
    "#     ftp.retrbinary('RETR ' + filename, localfile.write, 1024)\n",
    "#     localfile.close()\n",
    "\n",
    "# ftp.quit();"
   ]
  },
  {
   "cell_type": "code",
   "execution_count": null,
   "metadata": {},
   "outputs": [],
   "source": [
    "f = netCDF4.Dataset('sst.wkmean.1990-present.nc')\n",
    "\n",
    "lat,lon = f.variables['lat'], f.variables['lon']\n",
    "SST = f.variables['sst']\n",
    "sst = SST[:]\n",
    "\n",
    "f = netCDF4.Dataset('lsmask.nc')\n",
    "mask = f.variables['mask']"
   ]
  },
  {
   "cell_type": "code",
   "execution_count": null,
   "metadata": {},
   "outputs": [],
   "source": [
    "time_index = 0\n",
    "\n",
    "masks = np.bool_(np.squeeze(mask))\n",
    "snapshot = float(\"nan\")*np.ones((180,360))\n",
    "snapshot[masks] = sst[time_index,masks]\n",
    "\n",
    "plt.imshow(snapshot, cmap=plt.cm.coolwarm)\n",
    "plt.xticks([])\n",
    "plt.yticks([])\n",
    "plt.title('First snapshot of SST')"
   ]
  },
  {
   "cell_type": "code",
   "execution_count": null,
   "metadata": {},
   "outputs": [],
   "source": [
    "def compute_error(true, est):\n",
    "    \"\"\"\n",
    "    Computes and returns relative error.\n",
    "    \"\"\"\n",
    "    return np.linalg.norm(true - est) / np.linalg.norm(true)"
   ]
  },
  {
   "cell_type": "markdown",
   "metadata": {},
   "source": [
    "## Sketching"
   ]
  },
  {
   "cell_type": "code",
   "execution_count": null,
   "metadata": {},
   "outputs": [],
   "source": [
    "from scipy.linalg import hadamard\n",
    "\n",
    "def generate_countsketch_matrix(m, r, seed=None):\n",
    "    rng = np.random.default_rng(seed)\n",
    "    S = np.zeros((m, r))\n",
    "    for i in range(r):\n",
    "        row = rng.integers(0, m)\n",
    "        S[row, i] = rng.choice([-1, 1])\n",
    "    return S\n",
    "\n",
    "def generate_shrt_matrix(m, r, seed=None):\n",
    "    rng = np.random.default_rng(seed)\n",
    "    p = 2**np.ceil(np.log2(m)).astype(int)\n",
    "    H = hadamard(p)\n",
    "    D = np.diag(rng.choice([-1, 1], size=p))\n",
    "    HD = np.dot(H, D)\n",
    "    if p < r :\n",
    "        indices = rng.choice(p, size=r, replace=True)\n",
    "    else:\n",
    "        indices = rng.choice(p, size=r, replace=False)\n",
    "    SHRT = HD[indices, :]\n",
    "    return SHRT[:, :m].T  # Trim in case of padding"
   ]
  },
  {
   "cell_type": "code",
   "execution_count": null,
   "metadata": {},
   "outputs": [],
   "source": [
    "X = sst[:,masks]\n",
    "X.shape"
   ]
  },
  {
   "cell_type": "code",
   "execution_count": null,
   "metadata": {},
   "outputs": [],
   "source": [
    "snapshots_matrix = X.T"
   ]
  },
  {
   "cell_type": "markdown",
   "metadata": {},
   "source": [
    "## Randomized DMD \n",
    "### (1) Varying target rank. "
   ]
  },
  {
   "cell_type": "code",
   "execution_count": null,
   "metadata": {},
   "outputs": [],
   "source": [
    "num_trials = 20\n",
    "m = snapshots_matrix.shape[1]\n",
    "r = 50 # # of smapling rows\n",
    "rank_values = [10, 20, 50, 100, 200]"
   ]
  },
  {
   "cell_type": "code",
   "execution_count": null,
   "metadata": {},
   "outputs": [],
   "source": [
    "# Exact DMD\n",
    "dmd_oversampling_error = np.zeros((len(rank_values), num_trials))\n",
    "dmd_oversampling_times = np.zeros((len(rank_values), num_trials))\n",
    "\n",
    "for i, rank in enumerate(rank_values):\n",
    "    for j in range(num_trials):  \n",
    "        t0 = time.time()\n",
    "        dmd = DMD(svd_rank=rank, exact=True)\n",
    "        dmd.fit(X.T)\n",
    "        t1 = time.time()\n",
    "\n",
    "        dmd_oversampling_error[i, j] = (\n",
    "            compute_error(snapshots_matrix, dmd.reconstructed_data)\n",
    "        )\n",
    "        dmd_oversampling_times[i, j] = (t1 - t0)"
   ]
  },
  {
   "cell_type": "code",
   "execution_count": null,
   "metadata": {},
   "outputs": [],
   "source": [
    "# RDMD with Gaussian sketch\n",
    "oversampling_error = np.zeros((len(rank_values), num_trials))\n",
    "oversampling_times = np.zeros((len(rank_values), num_trials))\n",
    "\n",
    "for i, rank in enumerate(rank_values):\n",
    "    for j in range(num_trials):  \n",
    "\n",
    "        test_matrix = np.random.randn(m, r)\n",
    "        t0 = time.time()\n",
    "        rdmd = RDMD(svd_rank=rank, test_matrix=test_matrix).fit(\n",
    "            snapshots_matrix\n",
    "        )\n",
    "        t1 = time.time()\n",
    "\n",
    "        oversampling_error[i, j] = (\n",
    "            compute_error(snapshots_matrix, rdmd.reconstructed_data)\n",
    "        )\n",
    "        oversampling_times[i, j] = (t1 - t0)"
   ]
  },
  {
   "cell_type": "code",
   "execution_count": null,
   "metadata": {},
   "outputs": [],
   "source": [
    "# RDMD with Count sketch\n",
    "oversampling_error_count = np.zeros((len(rank_values), num_trials))\n",
    "oversampling_times_count = np.zeros((len(rank_values), num_trials))\n",
    "\n",
    "for i, oversampling in enumerate(rank_values):\n",
    "    for j in range(num_trials):\n",
    "        test_matrix = generate_countsketch_matrix(m, r)\n",
    "        t0 = time.time()\n",
    "        rdmd_count = RDMD(svd_rank=rank, test_matrix=test_matrix).fit(\n",
    "            snapshots_matrix\n",
    "        )\n",
    "        t1 = time.time()\n",
    "\n",
    "        oversampling_error_count[i, j] = (\n",
    "            compute_error(snapshots_matrix, rdmd_count.reconstructed_data)\n",
    "        )\n",
    "        oversampling_times_count[i, j] += (t1 - t0) "
   ]
  },
  {
   "cell_type": "code",
   "execution_count": null,
   "metadata": {},
   "outputs": [],
   "source": [
    "# RDMD with SHRT sketch\n",
    "oversampling_error_shrt = np.zeros((len(rank_values), num_trials))\n",
    "oversampling_times_shrt = np.zeros((len(rank_values), num_trials))\n",
    "\n",
    "for i, oversampling in enumerate(rank_values):\n",
    "    for j in range(num_trials):\n",
    "        test_matrix = generate_shrt_matrix(m, r)\n",
    "        t0 = time.time()\n",
    "        rdmd_shrt = RDMD(svd_rank=rank, test_matrix=test_matrix).fit(\n",
    "            snapshots_matrix\n",
    "        )\n",
    "        t1 = time.time()\n",
    "\n",
    "        oversampling_error_shrt[i, j] = (\n",
    "            compute_error(snapshots_matrix, rdmd_shrt.reconstructed_data)\n",
    "        )\n",
    "        oversampling_times_shrt[i, j] += (t1 - t0) "
   ]
  },
  {
   "cell_type": "code",
   "execution_count": null,
   "metadata": {},
   "outputs": [],
   "source": [
    "plt.figure(figsize=(8, 3))\n",
    "plt.subplot(1, 2, 1)\n",
    "plt.errorbar(rank_values, np.mean(dmd_oversampling_error, axis=1), yerr=np.std(dmd_oversampling_error, axis=1), fmt='-o', c=\"r\", label=\"Exact DMD\")\n",
    "plt.errorbar(rank_values, np.mean(oversampling_error, axis=1), yerr=np.std(oversampling_error, axis=1), fmt='-o', c=\"g\", label=\"RDMD_gaussian\")\n",
    "plt.errorbar(rank_values, np.mean(oversampling_error_count, axis=1), yerr=np.std(oversampling_error_count, axis=1), fmt='-o', c=\"orange\", label=\"RDMD_count\")\n",
    "plt.errorbar(rank_values, np.mean(oversampling_error_shrt, axis=1), yerr=np.std(oversampling_error_shrt, axis=1), fmt='-o', c=\"k\", label=\"RDMD_shrt\")\n",
    "\n",
    "plt.title(\"Reconstruction Error\")\n",
    "plt.xlabel(\"Target Rank\")\n",
    "plt.ylabel(\"Relative Error\")\n",
    "plt.legend()\n",
    "\n",
    "plt.subplot(1, 2, 2)\n",
    "plt.errorbar(rank_values, np.mean(dmd_oversampling_times, axis=1), yerr=np.std(dmd_oversampling_times, axis=1), fmt='-o', c=\"r\", label=\"Exact DMD\")\n",
    "plt.errorbar(rank_values, np.mean(oversampling_times, axis=1), yerr=np.std(oversampling_times, axis=1), fmt='-o', c=\"g\", label=\"RDMD_gaussian\")\n",
    "plt.errorbar(rank_values, np.mean(oversampling_times_count, axis=1), yerr=np.std(oversampling_times_count, axis=1), fmt='-o', c=\"orange\", label=\"RDMD_count\")\n",
    "plt.errorbar(rank_values, np.mean(oversampling_times_shrt, axis=1), yerr=np.std(oversampling_times_shrt, axis=1), fmt='-o', c=\"k\", label=\"RDMD_shrt\")\n",
    "\n",
    "plt.title(\"Training Time\")\n",
    "plt.xlabel(\"Target Rank\")\n",
    "plt.ylabel(\"Runtime (s)\")\n",
    "plt.legend()\n",
    "plt.tight_layout()\n",
    "plt.show()"
   ]
  },
  {
   "cell_type": "markdown",
   "metadata": {},
   "source": [
    "## (2) Varying # of sampling rows. "
   ]
  },
  {
   "cell_type": "code",
   "execution_count": null,
   "metadata": {},
   "outputs": [],
   "source": [
    "rank = 50\n",
    "sampling_values = [int(rank /2) , rank, int(rank*np.log(rank)), int(rank**2)] # of smapling rows"
   ]
  },
  {
   "cell_type": "code",
   "execution_count": null,
   "metadata": {},
   "outputs": [],
   "source": [
    "# Exact DMD\n",
    "dmd_error = np.zeros((len([rank]), num_trials))\n",
    "dmd_times = np.zeros((len([rank]), num_trials))\n",
    "\n",
    "for i, rank in enumerate([rank]):\n",
    "    for j in range(num_trials):  \n",
    "        t0 = time.time()\n",
    "        dmd = DMD(svd_rank=rank, exact=True)\n",
    "        dmd.fit(X.T)\n",
    "        t1 = time.time()\n",
    "\n",
    "        dmd_error[i, j] = (\n",
    "            compute_error(snapshots_matrix, dmd.reconstructed_data)\n",
    "        )\n",
    "        dmd_times[i, j] = (t1 - t0)"
   ]
  },
  {
   "cell_type": "code",
   "execution_count": null,
   "metadata": {},
   "outputs": [],
   "source": [
    "# RDMD with Gaussian sketch\n",
    "oversampling_error = np.zeros((len(sampling_values), num_trials))\n",
    "oversampling_times = np.zeros((len(sampling_values), num_trials))\n",
    "\n",
    "for i, r in enumerate(sampling_values):\n",
    "    for j in range(num_trials):  \n",
    "        test_matrix = np.random.randn(m, r)\n",
    "        t0 = time.time()\n",
    "        rdmd = RDMD(svd_rank=rank, test_matrix=test_matrix).fit(\n",
    "            snapshots_matrix\n",
    "        )\n",
    "        t1 = time.time()\n",
    "\n",
    "        oversampling_error[i, j] = (\n",
    "            compute_error(snapshots_matrix, rdmd.reconstructed_data)\n",
    "        )\n",
    "        oversampling_times[i, j] = (t1 - t0)"
   ]
  },
  {
   "cell_type": "code",
   "execution_count": null,
   "metadata": {},
   "outputs": [],
   "source": [
    "# RDMD with Count sketch\n",
    "oversampling_error_count = np.zeros((len(sampling_values), num_trials))\n",
    "oversampling_times_count = np.zeros((len(sampling_values), num_trials))\n",
    "\n",
    "for i, r in enumerate(sampling_values):\n",
    "    for j in range(num_trials):\n",
    "        test_matrix = generate_countsketch_matrix(m, r)\n",
    "        t0 = time.time()\n",
    "        rdmd_count = RDMD(svd_rank=rank, test_matrix=test_matrix).fit(\n",
    "            snapshots_matrix\n",
    "        )\n",
    "        t1 = time.time()\n",
    "\n",
    "        oversampling_error_count[i, j] = (\n",
    "            compute_error(snapshots_matrix, rdmd_count.reconstructed_data)\n",
    "        )\n",
    "        oversampling_times_count[i, j] += (t1 - t0) "
   ]
  },
  {
   "cell_type": "code",
   "execution_count": null,
   "metadata": {},
   "outputs": [],
   "source": [
    "# RDMD with SHRT sketch\n",
    "oversampling_error_shrt = np.zeros((len(rank_values), num_trials))\n",
    "oversampling_times_shrt = np.zeros((len(rank_values), num_trials))\n",
    "\n",
    "for i, r in enumerate(rank_values):\n",
    "    for j in range(num_trials):\n",
    "        test_matrix = generate_shrt_matrix(m, r)\n",
    "        t0 = time.time()\n",
    "        rdmd_shrt = RDMD(svd_rank=rank, test_matrix=test_matrix).fit(\n",
    "            snapshots_matrix\n",
    "        )\n",
    "        t1 = time.time()\n",
    "\n",
    "        oversampling_error_shrt[i, j] = (\n",
    "            compute_error(snapshots_matrix, rdmd_shrt.reconstructed_data)\n",
    "        )\n",
    "        oversampling_times_shrt[i, j] += (t1 - t0) "
   ]
  },
  {
   "cell_type": "code",
   "execution_count": null,
   "metadata": {},
   "outputs": [],
   "source": [
    "plt.figure(figsize=(8, 3))\n",
    "plt.subplot(1, 2, 1)\n",
    "\n",
    "plt.errorbar(sampling_values, np.mean(oversampling_error, axis=1), yerr=np.std(oversampling_error, axis=1), fmt='-o', c=\"g\", label=\"RDMD_gaussian\")\n",
    "plt.errorbar(sampling_values, np.mean(oversampling_error_count, axis=1), yerr=np.std(oversampling_error_count, axis=1), fmt='-o', c=\"orange\", label=\"RDMD_count\")\n",
    "plt.errorbar(sampling_values, np.mean(oversampling_error_shrt, axis=1), yerr=np.std(oversampling_error_shrt, axis=1), fmt='-o', c=\"k\", label=\"RDMD_shrt\")\n",
    "\n",
    "# plt.axhline(y=cdmd_error, c=\"b\", label=\"CDMD\")\n",
    "plt.axhline(y=np.mean(dmd_error, axis = 1), c=\"r\", label=\"Exact DMD\")\n",
    "\n",
    "plt.title(\"Reconstruction Error\")\n",
    "plt.xlabel(\"# of sampling rows\")\n",
    "plt.ylabel(\"Relative Error\")\n",
    "plt.xscale(\"log\")\n",
    "plt.legend()\n",
    "\n",
    "plt.subplot(1, 2, 2)\n",
    "\n",
    "plt.errorbar(sampling_values, np.mean(oversampling_times, axis=1), yerr=np.std(oversampling_times, axis=1), fmt='-o', c=\"g\", label=\"RDMD_gaussian\")\n",
    "plt.errorbar(sampling_values, np.mean(oversampling_times_count, axis=1), yerr=np.std(oversampling_times_count, axis=1), fmt='-o', c=\"orange\", label=\"RDMD_count\")\n",
    "plt.errorbar(sampling_values, np.mean(oversampling_times_shrt, axis=1), yerr=np.std(oversampling_times_shrt, axis=1), fmt='-o', c=\"k\", label=\"RDMD_shrt\")\n",
    "\n",
    "# plt.axhline(y=cdmd_time, c=\"b\", label=\"CDMD\")\n",
    "plt.axhline(y=np.mean(dmd_times, axis = 1), c=\"r\", label=\"Exact DMD\")\n",
    "\n",
    "plt.title(\"Training Time\")\n",
    "plt.xlabel(\"# of sampling rows\")\n",
    "plt.ylabel(\"Runtime\")\n",
    "plt.legend()\n",
    "plt.tight_layout()\n",
    "plt.show()"
   ]
  }
 ],
 "metadata": {
  "kernelspec": {
   "display_name": "pysheds",
   "language": "python",
   "name": "python3"
  },
  "language_info": {
   "codemirror_mode": {
    "name": "ipython",
    "version": 3
   },
   "file_extension": ".py",
   "mimetype": "text/x-python",
   "name": "python",
   "nbconvert_exporter": "python",
   "pygments_lexer": "ipython3",
   "version": "3.11.4"
  }
 },
 "nbformat": 4,
 "nbformat_minor": 2
}
